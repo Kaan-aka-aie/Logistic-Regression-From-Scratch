{
 "cells": [
  {
   "cell_type": "markdown",
   "id": "e8ec3dae-6018-472d-9c08-85766096a79c",
   "metadata": {},
   "source": [
    "# Logistic Regression From Scratch with Full Batch,Mini Batch Gradient Descent and Stochastic Gradient Ascent "
   ]
  },
  {
   "cell_type": "markdown",
   "id": "9a2fd845-1e40-45d9-9329-ca10b2323ab3",
   "metadata": {},
   "source": [
    "In this notebook three Logistic Regression models with Full Batch, Mini Batch Gradient descent and Stochastic Gradient Ascent are implemented from scratch using numpy and pandas only. All three training methods are combined with different learning rates and the results are evaluated.\n",
    "\n",
    "Finally the best performing model (among the models with different training methods and learning rates) is used to compare the difference INITIAL WEIGHT DISTRIBUTIONS such as Normal, Uniform, and All-Zeros."
   ]
  },
  {
   "cell_type": "code",
   "execution_count": 1,
   "id": "df5181bc-ff54-412e-b0d5-095c2d3097b7",
   "metadata": {},
   "outputs": [],
   "source": [
    "import numpy as np\n",
    "import pandas as pd\n",
    "import matplotlib.pyplot as plt"
   ]
  },
  {
   "cell_type": "markdown",
   "id": "12636db9-3036-4164-a410-606b2bee55fc",
   "metadata": {},
   "source": [
    "### Needed functions to train and evaluate our Logistic Regression Models"
   ]
  },
  {
   "cell_type": "code",
   "execution_count": 2,
   "id": "3321c2ce-282e-4b34-a4e9-11684fee7ec0",
   "metadata": {},
   "outputs": [],
   "source": [
    "def p1(x):\n",
    "    return np.exp(x)/(1+np.exp(x))\n",
    "\n",
    "def MinMaxScale(ar):\n",
    "    return (ar - np.min(ar))/(np.max(ar) - np.min(ar))\n",
    "def Py(x,w):\n",
    "    x_ = x.dot(w[1:])\n",
    "    x_ = np.exp(w[0] + x_)\n",
    "    x_[np.isinf(x_)] = 10^8\n",
    "    x_[np.isnan(x_)] = 10^8\n",
    "    x_ = x_/(1+x_)\n",
    "    return x_.reshape((x_.shape[0],1))\n",
    "\n",
    "def grad(x,w,y):\n",
    "    x_0 = np.concatenate((np.ones((x.shape[0],1)),x), axis = 1)\n",
    "    return np.sum((x_0*(y - Py(x,w))),axis = 0)\n",
    "\n",
    "def test(x,y,w): \n",
    "    predictions = p1(np.sum(x  * w[1:], axis = 1) + w[0]) #p1(np.sum(MinMaxScale(x)  * w[1:], axis = 1) + w[0])\n",
    "    return np.concatenate((predictions.reshape((predictions.shape[0],1)), y.reshape((y.shape[0],1))), axis = 1)\n",
    "\n",
    "def evaluate(x,y,w):\n",
    "    result = test(x,y,w)\n",
    "    result[result > 0.5] = 1\n",
    "    result[result <= 0.5] = 0\n",
    "    \n",
    "    acc = (result[:,0] == result[:,1]).sum() / result.shape[0]\n",
    "    positive_pred = result[result[:,0] == 1]\n",
    "    tp = positive_pred[positive_pred[:,1] == 1].shape[0]\n",
    "    fp = positive_pred[positive_pred[:,1] == 0].shape[0]\n",
    "    negative_pred = result[result[:,0] == 0]\n",
    "    fn = negative_pred[negative_pred[:,1] == 1].shape[0]\n",
    "    tn = negative_pred[negative_pred[:,1] == 0].shape[0]\n",
    "    \n",
    "    if tp+fp != 0 and tp+fn != 0:\n",
    "        precission = tp/(tp+fp)\n",
    "        recall = tp/(tp+fn)\n",
    "        F05 = 1.25*precission * recall /(0.25* precission + recall)\n",
    "        F1 = 2* precission * recall /(recall + precission)\n",
    "        F2 = tp/(tp + 0.2*fp + 0.8*fn)\n",
    "        print(\"Accuracy: \", acc)\n",
    "        print(\"Precission: \", precission)\n",
    "        print(\"Recall: \", recall)\n",
    "        print(\"F0.5: \", F05)\n",
    "        print(\"F1: \", F1)\n",
    "        print(\"F2: \", F2)   \n",
    "    elif tp + fp == 0:\n",
    "        print(\"Metrics Could not found. No Positive Prediction led to Division by Zero\")\n",
    "    elif tp + fn == 0:\n",
    "        print(\"Metrics Could not found. No True Positive Prediction or False Negative led to Division by Zero\")\n",
    "    conf = np.array([[tp,fp],[fn,tn]])\n",
    "    return conf"
   ]
  },
  {
   "cell_type": "code",
   "execution_count": 3,
   "id": "43878084-21bd-476f-816c-d2ec8bb7c2e4",
   "metadata": {},
   "outputs": [],
   "source": [
    "epochs = 40\n",
    "x_train = pd.read_csv(\"q2_train_samples.csv\")\n",
    "y_train = pd.read_csv(\"q2_train_labels.csv\")"
   ]
  },
  {
   "cell_type": "code",
   "execution_count": 4,
   "id": "244a0a7f-3fe5-479c-bd1e-0c489634febb",
   "metadata": {},
   "outputs": [
    {
     "data": {
      "text/html": [
       "<div>\n",
       "<style scoped>\n",
       "    .dataframe tbody tr th:only-of-type {\n",
       "        vertical-align: middle;\n",
       "    }\n",
       "\n",
       "    .dataframe tbody tr th {\n",
       "        vertical-align: top;\n",
       "    }\n",
       "\n",
       "    .dataframe thead th {\n",
       "        text-align: right;\n",
       "    }\n",
       "</style>\n",
       "<table border=\"1\" class=\"dataframe\">\n",
       "  <thead>\n",
       "    <tr style=\"text-align: right;\">\n",
       "      <th></th>\n",
       "      <th>Time</th>\n",
       "      <th>V1</th>\n",
       "      <th>V2</th>\n",
       "      <th>V3</th>\n",
       "      <th>V4</th>\n",
       "      <th>V5</th>\n",
       "      <th>V6</th>\n",
       "      <th>V7</th>\n",
       "      <th>V8</th>\n",
       "      <th>V9</th>\n",
       "      <th>...</th>\n",
       "      <th>V20</th>\n",
       "      <th>V21</th>\n",
       "      <th>V22</th>\n",
       "      <th>V23</th>\n",
       "      <th>V24</th>\n",
       "      <th>V25</th>\n",
       "      <th>V26</th>\n",
       "      <th>V27</th>\n",
       "      <th>V28</th>\n",
       "      <th>Amount</th>\n",
       "    </tr>\n",
       "  </thead>\n",
       "  <tbody>\n",
       "    <tr>\n",
       "      <th>0</th>\n",
       "      <td>116067.0</td>\n",
       "      <td>0.949241</td>\n",
       "      <td>1.333519</td>\n",
       "      <td>-4.855402</td>\n",
       "      <td>1.835006</td>\n",
       "      <td>-1.053245</td>\n",
       "      <td>-2.562826</td>\n",
       "      <td>-2.286986</td>\n",
       "      <td>0.260906</td>\n",
       "      <td>-0.895366</td>\n",
       "      <td>...</td>\n",
       "      <td>0.424608</td>\n",
       "      <td>0.306598</td>\n",
       "      <td>-0.854627</td>\n",
       "      <td>0.101177</td>\n",
       "      <td>-0.281497</td>\n",
       "      <td>0.024444</td>\n",
       "      <td>-0.107944</td>\n",
       "      <td>0.625289</td>\n",
       "      <td>0.315677</td>\n",
       "      <td>65.00</td>\n",
       "    </tr>\n",
       "    <tr>\n",
       "      <th>1</th>\n",
       "      <td>141586.0</td>\n",
       "      <td>-0.776900</td>\n",
       "      <td>1.333403</td>\n",
       "      <td>-0.039016</td>\n",
       "      <td>-0.240686</td>\n",
       "      <td>0.634192</td>\n",
       "      <td>-0.424639</td>\n",
       "      <td>0.783434</td>\n",
       "      <td>0.005889</td>\n",
       "      <td>-0.167518</td>\n",
       "      <td>...</td>\n",
       "      <td>0.267100</td>\n",
       "      <td>-0.299937</td>\n",
       "      <td>-0.524720</td>\n",
       "      <td>-0.121048</td>\n",
       "      <td>-0.740192</td>\n",
       "      <td>-0.471140</td>\n",
       "      <td>0.347458</td>\n",
       "      <td>0.078488</td>\n",
       "      <td>-0.026610</td>\n",
       "      <td>8.90</td>\n",
       "    </tr>\n",
       "    <tr>\n",
       "      <th>2</th>\n",
       "      <td>129741.0</td>\n",
       "      <td>-1.396204</td>\n",
       "      <td>2.618584</td>\n",
       "      <td>-6.036770</td>\n",
       "      <td>3.552454</td>\n",
       "      <td>1.030091</td>\n",
       "      <td>-2.950358</td>\n",
       "      <td>-1.528506</td>\n",
       "      <td>0.189319</td>\n",
       "      <td>-1.433554</td>\n",
       "      <td>...</td>\n",
       "      <td>0.031795</td>\n",
       "      <td>0.143177</td>\n",
       "      <td>-0.390176</td>\n",
       "      <td>0.356029</td>\n",
       "      <td>-0.762352</td>\n",
       "      <td>0.096510</td>\n",
       "      <td>-0.487861</td>\n",
       "      <td>0.062655</td>\n",
       "      <td>-0.240732</td>\n",
       "      <td>1.00</td>\n",
       "    </tr>\n",
       "    <tr>\n",
       "      <th>3</th>\n",
       "      <td>73408.0</td>\n",
       "      <td>-2.869795</td>\n",
       "      <td>1.335667</td>\n",
       "      <td>-1.009530</td>\n",
       "      <td>1.693885</td>\n",
       "      <td>-0.741480</td>\n",
       "      <td>-0.796773</td>\n",
       "      <td>-2.614242</td>\n",
       "      <td>1.066636</td>\n",
       "      <td>-1.135497</td>\n",
       "      <td>...</td>\n",
       "      <td>0.011557</td>\n",
       "      <td>0.528421</td>\n",
       "      <td>0.228027</td>\n",
       "      <td>-0.749298</td>\n",
       "      <td>-0.067179</td>\n",
       "      <td>0.215792</td>\n",
       "      <td>-0.453651</td>\n",
       "      <td>0.349191</td>\n",
       "      <td>0.198862</td>\n",
       "      <td>16.48</td>\n",
       "    </tr>\n",
       "    <tr>\n",
       "      <th>4</th>\n",
       "      <td>44348.0</td>\n",
       "      <td>-0.356236</td>\n",
       "      <td>1.088176</td>\n",
       "      <td>1.181898</td>\n",
       "      <td>-0.133526</td>\n",
       "      <td>0.256354</td>\n",
       "      <td>-0.468200</td>\n",
       "      <td>0.608542</td>\n",
       "      <td>0.088194</td>\n",
       "      <td>-0.649931</td>\n",
       "      <td>...</td>\n",
       "      <td>0.139289</td>\n",
       "      <td>-0.233321</td>\n",
       "      <td>-0.627183</td>\n",
       "      <td>-0.072905</td>\n",
       "      <td>-0.044656</td>\n",
       "      <td>-0.143651</td>\n",
       "      <td>0.074407</td>\n",
       "      <td>0.242738</td>\n",
       "      <td>0.084874</td>\n",
       "      <td>1.98</td>\n",
       "    </tr>\n",
       "  </tbody>\n",
       "</table>\n",
       "<p>5 rows × 30 columns</p>\n",
       "</div>"
      ],
      "text/plain": [
       "       Time        V1        V2        V3        V4        V5        V6  \\\n",
       "0  116067.0  0.949241  1.333519 -4.855402  1.835006 -1.053245 -2.562826   \n",
       "1  141586.0 -0.776900  1.333403 -0.039016 -0.240686  0.634192 -0.424639   \n",
       "2  129741.0 -1.396204  2.618584 -6.036770  3.552454  1.030091 -2.950358   \n",
       "3   73408.0 -2.869795  1.335667 -1.009530  1.693885 -0.741480 -0.796773   \n",
       "4   44348.0 -0.356236  1.088176  1.181898 -0.133526  0.256354 -0.468200   \n",
       "\n",
       "         V7        V8        V9  ...       V20       V21       V22       V23  \\\n",
       "0 -2.286986  0.260906 -0.895366  ...  0.424608  0.306598 -0.854627  0.101177   \n",
       "1  0.783434  0.005889 -0.167518  ...  0.267100 -0.299937 -0.524720 -0.121048   \n",
       "2 -1.528506  0.189319 -1.433554  ...  0.031795  0.143177 -0.390176  0.356029   \n",
       "3 -2.614242  1.066636 -1.135497  ...  0.011557  0.528421  0.228027 -0.749298   \n",
       "4  0.608542  0.088194 -0.649931  ...  0.139289 -0.233321 -0.627183 -0.072905   \n",
       "\n",
       "        V24       V25       V26       V27       V28  Amount  \n",
       "0 -0.281497  0.024444 -0.107944  0.625289  0.315677   65.00  \n",
       "1 -0.740192 -0.471140  0.347458  0.078488 -0.026610    8.90  \n",
       "2 -0.762352  0.096510 -0.487861  0.062655 -0.240732    1.00  \n",
       "3 -0.067179  0.215792 -0.453651  0.349191  0.198862   16.48  \n",
       "4 -0.044656 -0.143651  0.074407  0.242738  0.084874    1.98  \n",
       "\n",
       "[5 rows x 30 columns]"
      ]
     },
     "execution_count": 4,
     "metadata": {},
     "output_type": "execute_result"
    }
   ],
   "source": [
    "x_train.head()"
   ]
  },
  {
   "cell_type": "code",
   "execution_count": 5,
   "id": "713429d5-ed1f-446b-961a-2a0554a16ad2",
   "metadata": {},
   "outputs": [
    {
     "data": {
      "text/html": [
       "<div>\n",
       "<style scoped>\n",
       "    .dataframe tbody tr th:only-of-type {\n",
       "        vertical-align: middle;\n",
       "    }\n",
       "\n",
       "    .dataframe tbody tr th {\n",
       "        vertical-align: top;\n",
       "    }\n",
       "\n",
       "    .dataframe thead th {\n",
       "        text-align: right;\n",
       "    }\n",
       "</style>\n",
       "<table border=\"1\" class=\"dataframe\">\n",
       "  <thead>\n",
       "    <tr style=\"text-align: right;\">\n",
       "      <th></th>\n",
       "      <th>Class</th>\n",
       "    </tr>\n",
       "  </thead>\n",
       "  <tbody>\n",
       "    <tr>\n",
       "      <th>0</th>\n",
       "      <td>1</td>\n",
       "    </tr>\n",
       "    <tr>\n",
       "      <th>1</th>\n",
       "      <td>0</td>\n",
       "    </tr>\n",
       "    <tr>\n",
       "      <th>2</th>\n",
       "      <td>1</td>\n",
       "    </tr>\n",
       "    <tr>\n",
       "      <th>3</th>\n",
       "      <td>1</td>\n",
       "    </tr>\n",
       "    <tr>\n",
       "      <th>4</th>\n",
       "      <td>0</td>\n",
       "    </tr>\n",
       "  </tbody>\n",
       "</table>\n",
       "</div>"
      ],
      "text/plain": [
       "   Class\n",
       "0      1\n",
       "1      0\n",
       "2      1\n",
       "3      1\n",
       "4      0"
      ]
     },
     "execution_count": 5,
     "metadata": {},
     "output_type": "execute_result"
    }
   ],
   "source": [
    "y_train.head()"
   ]
  },
  {
   "cell_type": "code",
   "execution_count": 6,
   "id": "cc0bba86-6a5a-4239-afe3-93ccbbbbf12b",
   "metadata": {},
   "outputs": [],
   "source": [
    "x_train = x_train.to_numpy()\n",
    "y_train = y_train.to_numpy()\n",
    "x_train = np.apply_along_axis(MinMaxScale,0,x_train)"
   ]
  },
  {
   "cell_type": "code",
   "execution_count": 7,
   "id": "3af74e42-5cfa-418f-9373-38f655fb0619",
   "metadata": {
    "tags": []
   },
   "outputs": [],
   "source": [
    "x_test = pd.read_csv(\"q2_test_samples.csv\")\n",
    "y_test = pd.read_csv(\"q2_test_labels.csv\")\n",
    "\n",
    "x_test = x_test.to_numpy()\n",
    "y_test = y_test.to_numpy()\n",
    "\n",
    "x_test = np.apply_along_axis(MinMaxScale,0,x_test)"
   ]
  },
  {
   "cell_type": "markdown",
   "id": "74a649ba-ad41-46b2-9dd4-fb12335f1469",
   "metadata": {},
   "source": [
    "## Full Batch Gradient Descent with Different Learning Rates"
   ]
  },
  {
   "cell_type": "code",
   "execution_count": 10,
   "id": "8e2e0959-250c-4f02-a129-fccf235b00a5",
   "metadata": {},
   "outputs": [
    {
     "name": "stderr",
     "output_type": "stream",
     "text": [
      "<ipython-input-2-3abfc7cd4bce>:8: RuntimeWarning: overflow encountered in exp\n",
      "  x_ = np.exp(w[0] + x_)\n"
     ]
    }
   ],
   "source": [
    "l = [1, 0.5, 0.05, 0.005] \n",
    "params = dict(zip(l, [0,0,0,0,0]))\n",
    "for lr in l:\n",
    "    w = np.random.normal(0,0.01,x_train.shape[1] + 1)\n",
    "    for _ in range(epochs):\n",
    "        w = w + lr * grad(x_train,w,y_train)\n",
    "    params[lr] = w "
   ]
  },
  {
   "cell_type": "markdown",
   "id": "72f8a1c6-148a-47b4-9084-063efb8bfb04",
   "metadata": {},
   "source": [
    "### Evaluation of Full Batch Gradient Descent with different Learning Rates"
   ]
  },
  {
   "cell_type": "code",
   "execution_count": 11,
   "id": "bf3914d3-6a7a-4e57-9db4-9321bcb91fa0",
   "metadata": {},
   "outputs": [
    {
     "name": "stdout",
     "output_type": "stream",
     "text": [
      "-----------\n",
      "Accuracy Metrics and Confusion Matrix for Learning Rate of 1\n",
      "Accuracy:  0.5596330275229358\n",
      "Precission:  0.4444444444444444\n",
      "Recall:  0.2222222222222222\n",
      "F0.5:  0.37037037037037035\n",
      "F1:  0.2962962962962963\n",
      "F2:  0.24691358024691354\n",
      "[[  4   5]\n",
      " [ 14 118]]\n",
      "\n",
      "\n",
      "-----------\n",
      "Accuracy Metrics and Confusion Matrix for Learning Rate of 0.5\n",
      "Accuracy:  0.24770642201834864\n",
      "Precission:  0.15841584158415842\n",
      "Recall:  0.8888888888888888\n",
      "F0.5:  0.18957345971563982\n",
      "F1:  0.26890756302521013\n",
      "F2:  0.4624277456647399\n",
      "[[16 85]\n",
      " [ 2 38]]\n",
      "\n",
      "\n",
      "-----------\n",
      "Accuracy Metrics and Confusion Matrix for Learning Rate of 0.05\n",
      "Accuracy:  0.8990825688073395\n",
      "Precission:  0.9864864864864865\n",
      "Recall:  0.776595744680851\n",
      "F0.5:  0.9358974358974359\n",
      "F1:  0.8690476190476191\n",
      "F2:  0.8111111111111111\n",
      "[[ 73   1]\n",
      " [ 21 123]]\n",
      "\n",
      "\n",
      "-----------\n",
      "Accuracy Metrics and Confusion Matrix for Learning Rate of 0.005\n",
      "Accuracy:  0.7614678899082569\n",
      "Precission:  0.9772727272727273\n",
      "Recall:  0.4574468085106383\n",
      "F0.5:  0.7962962962962964\n",
      "F1:  0.6231884057971016\n",
      "F2:  0.5119047619047619\n",
      "[[ 43   1]\n",
      " [ 51 123]]\n",
      "\n",
      "\n"
     ]
    },
    {
     "name": "stderr",
     "output_type": "stream",
     "text": [
      "<ipython-input-2-3abfc7cd4bce>:2: RuntimeWarning: overflow encountered in exp\n",
      "  return np.exp(x)/(1+np.exp(x))\n",
      "<ipython-input-2-3abfc7cd4bce>:2: RuntimeWarning: invalid value encountered in true_divide\n",
      "  return np.exp(x)/(1+np.exp(x))\n"
     ]
    }
   ],
   "source": [
    "for lr in l:\n",
    "    print(\"-----------\")\n",
    "    print(\"Accuracy Metrics and Confusion Matrix for Learning Rate of\" , lr)\n",
    "    print(evaluate(x_test,y_test,params[lr]))\n",
    "    print(\"\\n\")"
   ]
  },
  {
   "cell_type": "markdown",
   "id": "7171e9b8-2214-48fd-9c1e-6d8d789680af",
   "metadata": {},
   "source": [
    "### Part 2"
   ]
  },
  {
   "cell_type": "markdown",
   "id": "ef7289e6-76b0-471e-a8ae-319111aaa231",
   "metadata": {},
   "source": [
    "## Mini Batch Gradient Descent with Different Learning Rates"
   ]
  },
  {
   "cell_type": "code",
   "execution_count": 10,
   "id": "a3cb312e-f41b-4d1a-a848-56a7b9ae63c4",
   "metadata": {},
   "outputs": [],
   "source": [
    "batch_size = 32\n",
    "l = [0.009,0.05, 0.1,0.3,1] \n",
    "params = dict(zip(l, [0,0,0,0,0]))\n",
    "for lr in l:\n",
    "    w = np.random.normal(0,0.01,x_train.shape[1] + 1)\n",
    "    #for _ in range(epochs):\n",
    "    for i in range(x_train.shape[0]//batch_size):\n",
    "        w = w + lr * grad(x_train[i*batch_size:(i * batch_size) + batch_size,:],w,y_train[i*batch_size:(i * batch_size) + batch_size,:])\n",
    "    params[lr] = w "
   ]
  },
  {
   "cell_type": "markdown",
   "id": "b3d24ec3-2a1e-4c3c-93c3-1a73d14bad2f",
   "metadata": {},
   "source": [
    "### Evaluation of Full Batch Gradient Descent with different Learning Rates\n"
   ]
  },
  {
   "cell_type": "code",
   "execution_count": 11,
   "id": "4f8f3041-cbde-4ab9-8ede-bf95535c72be",
   "metadata": {},
   "outputs": [
    {
     "name": "stdout",
     "output_type": "stream",
     "text": [
      "-----------\n",
      "Accuracy Metrics and Confusion Matrix for Learning Rate of 0.009\n",
      "Accuracy:  0.7614678899082569\n",
      "Precission:  0.9772727272727273\n",
      "Recall:  0.4574468085106383\n",
      "F0.5:  0.7962962962962964\n",
      "F1:  0.6231884057971016\n",
      "F2:  0.5119047619047619\n",
      "[[ 43   1]\n",
      " [ 51 123]]\n",
      "\n",
      "\n",
      "-----------\n",
      "Accuracy Metrics and Confusion Matrix for Learning Rate of 0.05\n",
      "Accuracy:  0.9174311926605505\n",
      "Precission:  0.9871794871794872\n",
      "Recall:  0.8191489361702128\n",
      "F0.5:  0.9482758620689656\n",
      "F1:  0.8953488372093025\n",
      "F2:  0.8480176211453744\n",
      "[[ 77   1]\n",
      " [ 17 123]]\n",
      "\n",
      "\n",
      "-----------\n",
      "Accuracy Metrics and Confusion Matrix for Learning Rate of 0.1\n",
      "Accuracy:  0.8623853211009175\n",
      "Precission:  0.9848484848484849\n",
      "Recall:  0.6914893617021277\n",
      "F0.5:  0.9078212290502792\n",
      "F1:  0.8125000000000001\n",
      "F2:  0.7352941176470588\n",
      "[[ 65   1]\n",
      " [ 29 123]]\n",
      "\n",
      "\n",
      "-----------\n",
      "Accuracy Metrics and Confusion Matrix for Learning Rate of 0.3\n",
      "Accuracy:  0.7935779816513762\n",
      "Precission:  0.9803921568627451\n",
      "Recall:  0.5319148936170213\n",
      "F0.5:  0.8389261744966442\n",
      "F1:  0.689655172413793\n",
      "F2:  0.585480093676815\n",
      "[[ 50   1]\n",
      " [ 44 123]]\n",
      "\n",
      "\n",
      "-----------\n",
      "Accuracy Metrics and Confusion Matrix for Learning Rate of 1\n",
      "Accuracy:  0.7706422018348624\n",
      "Precission:  0.9782608695652174\n",
      "Recall:  0.4787234042553192\n",
      "F0.5:  0.8093525179856115\n",
      "F1:  0.6428571428571429\n",
      "F2:  0.533175355450237\n",
      "[[ 45   1]\n",
      " [ 49 123]]\n",
      "\n",
      "\n"
     ]
    }
   ],
   "source": [
    "for lr in l:\n",
    "    print(\"-----------\")\n",
    "    print(\"Accuracy Metrics and Confusion Matrix for Learning Rate of\" , lr)\n",
    "    print(evaluate(x_test,y_test,params[lr]))\n",
    "    print(\"\\n\")"
   ]
  },
  {
   "cell_type": "markdown",
   "id": "be90740b-91b2-4193-8016-323ad8af8717",
   "metadata": {},
   "source": [
    "## Stochastic Gradient Ascent with different Learning Rates"
   ]
  },
  {
   "cell_type": "code",
   "execution_count": 12,
   "id": "011516ef-339c-4b44-a218-9391dbec3b38",
   "metadata": {},
   "outputs": [],
   "source": [
    "l = [0.009,0.05, 0.1,0.3,1] \n",
    "params = dict(zip(l, [0,0,0,0,0]))\n",
    "for lr in l:\n",
    "    w = np.random.normal(0,0.01,x_train.shape[1] + 1)\n",
    "    #for _ in range(epochs):\n",
    "    for i in range(x_train.shape[0]):\n",
    "        w = w + lr * grad(x_train[i,:].reshape((1,x_train.shape[1])),w,y_train[i,:])\n",
    "    params[lr] = w "
   ]
  },
  {
   "cell_type": "markdown",
   "id": "01e25f7f-8367-41d1-8e35-36f647369f81",
   "metadata": {},
   "source": [
    "### Evaluating Stochastic Gradient Ascent with different Learning Rates"
   ]
  },
  {
   "cell_type": "code",
   "execution_count": 13,
   "id": "289e6ceb-89d5-42ba-8ba9-1c7fceed6527",
   "metadata": {},
   "outputs": [
    {
     "name": "stdout",
     "output_type": "stream",
     "text": [
      "-----------\n",
      "Accuracy Metrics and Confusion Matrix for Learning Rate of 0.009\n",
      "Accuracy:  0.7247706422018348\n",
      "Precission:  1.0\n",
      "Recall:  0.3617021276595745\n",
      "F0.5:  0.7391304347826088\n",
      "F1:  0.53125\n",
      "F2:  0.4146341463414634\n",
      "[[ 34   0]\n",
      " [ 60 124]]\n",
      "\n",
      "\n",
      "-----------\n",
      "Accuracy Metrics and Confusion Matrix for Learning Rate of 0.05\n",
      "Accuracy:  0.8073394495412844\n",
      "Precission:  0.9814814814814815\n",
      "Recall:  0.5638297872340425\n",
      "F0.5:  0.8548387096774194\n",
      "F1:  0.7162162162162162\n",
      "F2:  0.6162790697674418\n",
      "[[ 53   1]\n",
      " [ 41 123]]\n",
      "\n",
      "\n",
      "-----------\n",
      "Accuracy Metrics and Confusion Matrix for Learning Rate of 0.1\n",
      "Accuracy:  0.8165137614678899\n",
      "Precission:  0.9821428571428571\n",
      "Recall:  0.5851063829787234\n",
      "F0.5:  0.8647798742138364\n",
      "F1:  0.7333333333333334\n",
      "F2:  0.6365740740740741\n",
      "[[ 55   1]\n",
      " [ 39 123]]\n",
      "\n",
      "\n",
      "-----------\n",
      "Accuracy Metrics and Confusion Matrix for Learning Rate of 0.3\n",
      "Accuracy:  0.8394495412844036\n",
      "Precission:  0.9836065573770492\n",
      "Recall:  0.6382978723404256\n",
      "F0.5:  0.8875739644970414\n",
      "F1:  0.7741935483870969\n",
      "F2:  0.6864988558352403\n",
      "[[ 60   1]\n",
      " [ 34 123]]\n",
      "\n",
      "\n",
      "-----------\n",
      "Accuracy Metrics and Confusion Matrix for Learning Rate of 1\n",
      "Accuracy:  0.8944954128440367\n",
      "Precission:  0.9863013698630136\n",
      "Recall:  0.7659574468085106\n",
      "F0.5:  0.9326424870466322\n",
      "F1:  0.8622754491017964\n",
      "F2:  0.8017817371937638\n",
      "[[ 72   1]\n",
      " [ 22 123]]\n",
      "\n",
      "\n"
     ]
    }
   ],
   "source": [
    "for lr in l:\n",
    "    print(\"-----------\")\n",
    "    print(\"Accuracy Metrics and Confusion Matrix for Learning Rate of\" , lr)\n",
    "    print(evaluate(x_test,y_test,params[lr]))\n",
    "    print(\"\\n\")"
   ]
  },
  {
   "cell_type": "markdown",
   "id": "25269d46-0414-4a4a-b4b5-c31c9ec61d28",
   "metadata": {},
   "source": [
    "### Evaluating the Initial Weight Distributions Using the Best model Above"
   ]
  },
  {
   "cell_type": "code",
   "execution_count": 14,
   "id": "bf751596-9589-4b81-aaf9-76f8893facde",
   "metadata": {},
   "outputs": [],
   "source": [
    "#batch\n",
    "lr = 0.05\n",
    "weights = [np.random.normal(0,0.1,x_train.shape[1] + 1),np.random.uniform(0,1,x_train.shape[1] + 1),np.zeros(x_train.shape[1] + 1)] \n",
    "accuracies = [[],[],[]]\n",
    "weigths_ = []\n",
    "\n",
    "k = 0\n",
    "for w in weights:\n",
    "    for i in range(x_train.shape[0]//batch_size):\n",
    "        w = w + lr * grad(x_train[i*batch_size:(i * batch_size) + batch_size,:],w,y_train[i*batch_size:(i * batch_size) + batch_size,:])\n",
    "        result =  test(x_train,y_train,w)\n",
    "        result[result > 0.5] = 1\n",
    "        result[result <= 0.5] = 0\n",
    "        acc = (result[:,0] == result[:,1]).sum() / result.shape[0]\n",
    "        accuracies[k].append(acc)\n",
    "    k += 1\n",
    "    weigths_.append(w)"
   ]
  },
  {
   "cell_type": "code",
   "execution_count": 15,
   "id": "13d0545d-991f-49b7-ada7-e9fa8a7d42cf",
   "metadata": {},
   "outputs": [
    {
     "name": "stdout",
     "output_type": "stream",
     "text": [
      "-----------\n",
      "Accuracy Metrics and Confusion Matrix for  Normal\n",
      "Accuracy:  0.9220183486238532\n",
      "Precission:  0.9873417721518988\n",
      "Recall:  0.8297872340425532\n",
      "F0.5:  0.951219512195122\n",
      "F1:  0.9017341040462428\n",
      "F2:  0.8571428571428571\n",
      "[[ 78   1]\n",
      " [ 16 123]]\n",
      "\n",
      "\n",
      "-----------\n",
      "Accuracy Metrics and Confusion Matrix for  Uniform\n",
      "Accuracy:  0.9036697247706422\n",
      "Precission:  0.9866666666666667\n",
      "Recall:  0.7872340425531915\n",
      "F0.5:  0.9390862944162437\n",
      "F1:  0.8757396449704142\n",
      "F2:  0.8203991130820398\n",
      "[[ 74   1]\n",
      " [ 20 123]]\n",
      "\n",
      "\n",
      "-----------\n",
      "Accuracy Metrics and Confusion Matrix for  Zeros\n",
      "Accuracy:  0.9174311926605505\n",
      "Precission:  0.9871794871794872\n",
      "Recall:  0.8191489361702128\n",
      "F0.5:  0.9482758620689656\n",
      "F1:  0.8953488372093025\n",
      "F2:  0.8480176211453744\n",
      "[[ 77   1]\n",
      " [ 17 123]]\n",
      "\n",
      "\n"
     ]
    }
   ],
   "source": [
    "dists = [\"Normal\",\"Uniform\",\"Zeros\"]\n",
    "for i in range(len(weigths_)):\n",
    "    print(\"-----------\")\n",
    "    print(\"Accuracy Metrics and Confusion Matrix for \" , dists[i] )\n",
    "    print(evaluate(x_test,y_test,weigths_[i]))\n",
    "    print(\"\\n\")"
   ]
  },
  {
   "cell_type": "markdown",
   "id": "f5bee326-8762-4e5f-a6c3-90beab9d4353",
   "metadata": {},
   "source": [
    "## Accuracy vs Batch Plot for all initial Weight Distributions"
   ]
  },
  {
   "cell_type": "code",
   "execution_count": 16,
   "id": "1210bc3f-4e0b-41c9-8094-568d660ef6e2",
   "metadata": {},
   "outputs": [
    {
     "data": {
      "text/plain": [
       "<matplotlib.legend.Legend at 0x2740dfc4910>"
      ]
     },
     "execution_count": 16,
     "metadata": {},
     "output_type": "execute_result"
    },
    {
     "data": {
      "image/png": "[encoded data removed]",
      "text/plain": [
       "<Figure size 432x288 with 1 Axes>"
      ]
     },
     "metadata": {
      "needs_background": "light"
     },
     "output_type": "display_data"
    }
   ],
   "source": [
    "plt.plot(np.arange(x_train.shape[0]//batch_size),np.array(accuracies[0]), label = \"Normal\")\n",
    "plt.plot(np.arange(x_train.shape[0]//batch_size),np.array(accuracies[1]), label = \"Uniform\")\n",
    "plt.plot(np.arange(x_train.shape[0]//batch_size),np.array(accuracies[2]), label = \"Zeros\")\n",
    "plt.title(\"Accuracy vs batches colored by initial weight distribution.\")\n",
    "plt.legend()"
   ]
  }
 ],
 "metadata": {
  "kernelspec": {
   "display_name": "Python 3",
   "language": "python",
   "name": "python3"
  },
  "language_info": {
   "codemirror_mode": {
    "name": "ipython",
    "version": 3
   },
   "file_extension": ".py",
   "mimetype": "text/x-python",
   "name": "python",
   "nbconvert_exporter": "python",
   "pygments_lexer": "ipython3",
   "version": "3.9.1"
  }
 },
 "nbformat": 4,
 "nbformat_minor": 5
}
